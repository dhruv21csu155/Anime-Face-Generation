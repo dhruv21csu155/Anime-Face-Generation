{
  "metadata": {
    "kernelspec": {
      "language": "python",
      "display_name": "Python 3",
      "name": "python3"
    },
    "language_info": {
      "name": "python",
      "version": "3.7.12",
      "mimetype": "text/x-python",
      "codemirror_mode": {
        "name": "ipython",
        "version": 3
      },
      "pygments_lexer": "ipython3",
      "nbconvert_exporter": "python",
      "file_extension": ".py"
    },
    "colab": {
      "provenance": [],
      "include_colab_link": true
    }
  },
  "nbformat_minor": 0,
  "nbformat": 4,
  "cells": [
    {
      "cell_type": "markdown",
      "metadata": {
        "id": "view-in-github",
        "colab_type": "text"
      },
      "source": [
        "<a href=\"https://colab.research.google.com/github/dhruv21csu155/Anime-Face-Generation/blob/main/Anime_Face_Generation_Keras_Tensorflow.ipynb\" target=\"_parent\"><img src=\"https://colab.research.google.com/assets/colab-badge.svg\" alt=\"Open In Colab\"/></a>"
      ]
    },
    {
      "cell_type": "markdown",
      "source": [
        "## Import Modules"
      ],
      "metadata": {
        "id": "valKSOCzBjM-"
      }
    },
    {
      "cell_type": "markdown",
      "source": [
        "**Name and Roll no.- Dhruv 21CSU155 and Udit 21CSU570**\n",
        "\n",
        "**Problem Statement - Developing a Generative Adversarial Network (GAN) model to automatically generate high-quality anime faces with diverse features and consistent stylistic elements, addressing the demand for efficient and realistic character creation in animation, gaming, and digital art**\n",
        "\n",
        "**GAN - Image Generation Task**"
      ],
      "metadata": {
        "id": "aTIcY2axKKPn"
      }
    },
    {
      "cell_type": "markdown",
      "source": [
        "**Data Set Link**\n",
        "\n",
        "https://www.kaggle.com/datasets/soumikrakshit/anime-faces"
      ],
      "metadata": {
        "id": "0nlzT3JtNplS"
      }
    },
    {
      "cell_type": "code",
      "source": [
        "import os\n",
        "import numpy as np\n",
        "import matplotlib.pyplot as plt\n",
        "import warnings\n",
        "from tqdm.notebook import tqdm\n",
        "\n",
        "import tensorflow as tf\n",
        "from tensorflow import keras\n",
        "from tensorflow.keras.preprocessing.image import load_img, array_to_img\n",
        "from tensorflow.keras.models import Sequential, Model\n",
        "from tensorflow.keras import layers\n",
        "from tensorflow.keras.optimizers import Adam\n",
        "from tensorflow.keras.losses import BinaryCrossentropy\n",
        "\n",
        "warnings.filterwarnings('ignore')"
      ],
      "metadata": {
        "execution": {
          "iopub.status.busy": "2023-02-08T02:20:03.613718Z",
          "iopub.execute_input": "2023-02-08T02:20:03.614129Z",
          "iopub.status.idle": "2023-02-08T02:20:09.054832Z",
          "shell.execute_reply.started": "2023-02-08T02:20:03.614051Z",
          "shell.execute_reply": "2023-02-08T02:20:09.053864Z"
        },
        "trusted": true,
        "id": "nLFzqaelBjNC"
      },
      "execution_count": 1,
      "outputs": []
    },
    {
      "cell_type": "markdown",
      "source": [
        "## Load the files"
      ],
      "metadata": {
        "id": "68NV6C-EBjNF"
      }
    },
    {
      "cell_type": "code",
      "source": [
        "BASE_DIR = '/kaggle/input/anime-faces/data/'"
      ],
      "metadata": {
        "execution": {
          "iopub.status.busy": "2023-02-08T02:20:09.056943Z",
          "iopub.execute_input": "2023-02-08T02:20:09.057648Z",
          "iopub.status.idle": "2023-02-08T02:20:09.068043Z",
          "shell.execute_reply.started": "2023-02-08T02:20:09.057609Z",
          "shell.execute_reply": "2023-02-08T02:20:09.064721Z"
        },
        "trusted": true,
        "id": "IsHym0EDBjNG"
      },
      "execution_count": 2,
      "outputs": []
    },
    {
      "cell_type": "code",
      "source": [
        "# load complete image paths to the list\n",
        "image_paths = []\n",
        "for image_name in os.listdir(BASE_DIR):\n",
        "    image_path = os.path.join(BASE_DIR, image_name)\n",
        "    image_paths.append(image_path)"
      ],
      "metadata": {
        "execution": {
          "iopub.status.busy": "2023-02-08T02:20:09.070543Z",
          "iopub.execute_input": "2023-02-08T02:20:09.071205Z",
          "iopub.status.idle": "2023-02-08T02:20:10.532020Z",
          "shell.execute_reply.started": "2023-02-08T02:20:09.071163Z",
          "shell.execute_reply": "2023-02-08T02:20:10.530749Z"
        },
        "trusted": true,
        "colab": {
          "base_uri": "https://localhost:8080/",
          "height": 211
        },
        "id": "aM_-q-wPBjNH",
        "outputId": "e24d567c-8c3c-41b2-f7ed-e63e011cd99b"
      },
      "execution_count": 3,
      "outputs": [
        {
          "output_type": "error",
          "ename": "FileNotFoundError",
          "evalue": "[Errno 2] No such file or directory: '/kaggle/input/anime-faces/data/'",
          "traceback": [
            "\u001b[0;31m---------------------------------------------------------------------------\u001b[0m",
            "\u001b[0;31mFileNotFoundError\u001b[0m                         Traceback (most recent call last)",
            "\u001b[0;32m<ipython-input-3-14128a76faa9>\u001b[0m in \u001b[0;36m<cell line: 3>\u001b[0;34m()\u001b[0m\n\u001b[1;32m      1\u001b[0m \u001b[0;31m# load complete image paths to the list\u001b[0m\u001b[0;34m\u001b[0m\u001b[0;34m\u001b[0m\u001b[0m\n\u001b[1;32m      2\u001b[0m \u001b[0mimage_paths\u001b[0m \u001b[0;34m=\u001b[0m \u001b[0;34m[\u001b[0m\u001b[0;34m]\u001b[0m\u001b[0;34m\u001b[0m\u001b[0;34m\u001b[0m\u001b[0m\n\u001b[0;32m----> 3\u001b[0;31m \u001b[0;32mfor\u001b[0m \u001b[0mimage_name\u001b[0m \u001b[0;32min\u001b[0m \u001b[0mos\u001b[0m\u001b[0;34m.\u001b[0m\u001b[0mlistdir\u001b[0m\u001b[0;34m(\u001b[0m\u001b[0mBASE_DIR\u001b[0m\u001b[0;34m)\u001b[0m\u001b[0;34m:\u001b[0m\u001b[0;34m\u001b[0m\u001b[0;34m\u001b[0m\u001b[0m\n\u001b[0m\u001b[1;32m      4\u001b[0m     \u001b[0mimage_path\u001b[0m \u001b[0;34m=\u001b[0m \u001b[0mos\u001b[0m\u001b[0;34m.\u001b[0m\u001b[0mpath\u001b[0m\u001b[0;34m.\u001b[0m\u001b[0mjoin\u001b[0m\u001b[0;34m(\u001b[0m\u001b[0mBASE_DIR\u001b[0m\u001b[0;34m,\u001b[0m \u001b[0mimage_name\u001b[0m\u001b[0;34m)\u001b[0m\u001b[0;34m\u001b[0m\u001b[0;34m\u001b[0m\u001b[0m\n\u001b[1;32m      5\u001b[0m     \u001b[0mimage_paths\u001b[0m\u001b[0;34m.\u001b[0m\u001b[0mappend\u001b[0m\u001b[0;34m(\u001b[0m\u001b[0mimage_path\u001b[0m\u001b[0;34m)\u001b[0m\u001b[0;34m\u001b[0m\u001b[0;34m\u001b[0m\u001b[0m\n",
            "\u001b[0;31mFileNotFoundError\u001b[0m: [Errno 2] No such file or directory: '/kaggle/input/anime-faces/data/'"
          ]
        }
      ]
    },
    {
      "cell_type": "code",
      "source": [
        "image_paths[:5]"
      ],
      "metadata": {
        "execution": {
          "iopub.status.busy": "2023-02-08T02:20:10.534694Z",
          "iopub.execute_input": "2023-02-08T02:20:10.535045Z",
          "iopub.status.idle": "2023-02-08T02:20:10.544740Z",
          "shell.execute_reply.started": "2023-02-08T02:20:10.535010Z",
          "shell.execute_reply": "2023-02-08T02:20:10.543604Z"
        },
        "trusted": true,
        "id": "Il9au18rBjNH"
      },
      "execution_count": null,
      "outputs": []
    },
    {
      "cell_type": "code",
      "source": [
        "# remove unnecessary file\n",
        "image_paths.remove('/kaggle/input/anime-faces/data/data')"
      ],
      "metadata": {
        "execution": {
          "iopub.status.busy": "2023-02-08T02:20:10.546178Z",
          "iopub.execute_input": "2023-02-08T02:20:10.547005Z",
          "iopub.status.idle": "2023-02-08T02:20:10.553177Z",
          "shell.execute_reply.started": "2023-02-08T02:20:10.546970Z",
          "shell.execute_reply": "2023-02-08T02:20:10.552140Z"
        },
        "trusted": true,
        "id": "22SjvqyLBjNK"
      },
      "execution_count": null,
      "outputs": []
    },
    {
      "cell_type": "code",
      "source": [
        "len(image_paths)"
      ],
      "metadata": {
        "execution": {
          "iopub.status.busy": "2023-02-08T02:20:10.554681Z",
          "iopub.execute_input": "2023-02-08T02:20:10.555311Z",
          "iopub.status.idle": "2023-02-08T02:20:10.564174Z",
          "shell.execute_reply.started": "2023-02-08T02:20:10.555276Z",
          "shell.execute_reply": "2023-02-08T02:20:10.563107Z"
        },
        "trusted": true,
        "id": "00o6MKhpBjNK"
      },
      "execution_count": null,
      "outputs": []
    },
    {
      "cell_type": "markdown",
      "source": [
        "## Visualize the Image Dataset"
      ],
      "metadata": {
        "id": "OOqqPfxuBjNL"
      }
    },
    {
      "cell_type": "code",
      "source": [
        "# to display grid of images (7x7)\n",
        "plt.figure(figsize=(20, 20))\n",
        "temp_images = image_paths[:49]\n",
        "index = 1\n",
        "\n",
        "for image_path in temp_images:\n",
        "    plt.subplot(7, 7, index)\n",
        "    # load the image\n",
        "    img = load_img(image_path)\n",
        "    # convert to numpy array\n",
        "    img = np.array(img)\n",
        "    # show the image\n",
        "    plt.imshow(img)\n",
        "    plt.axis('off')\n",
        "    # increment the index for next image\n",
        "    index += 1"
      ],
      "metadata": {
        "execution": {
          "iopub.status.busy": "2023-02-08T02:20:10.565549Z",
          "iopub.execute_input": "2023-02-08T02:20:10.566119Z",
          "iopub.status.idle": "2023-02-08T02:20:13.606401Z",
          "shell.execute_reply.started": "2023-02-08T02:20:10.566085Z",
          "shell.execute_reply": "2023-02-08T02:20:13.605077Z"
        },
        "trusted": true,
        "id": "rHVz-6u5BjNL"
      },
      "execution_count": null,
      "outputs": []
    },
    {
      "cell_type": "markdown",
      "source": [
        "## Preprocess Images"
      ],
      "metadata": {
        "id": "VGbAZg5EBjNL"
      }
    },
    {
      "cell_type": "code",
      "source": [
        "# load the image and convert to numpy array\n",
        "train_images = [np.array(load_img(path)) for path in tqdm(image_paths)]\n",
        "train_images = np.array(train_images)"
      ],
      "metadata": {
        "execution": {
          "iopub.status.busy": "2023-02-08T02:20:13.607790Z",
          "iopub.execute_input": "2023-02-08T02:20:13.608250Z",
          "iopub.status.idle": "2023-02-08T02:24:21.447125Z",
          "shell.execute_reply.started": "2023-02-08T02:20:13.608202Z",
          "shell.execute_reply": "2023-02-08T02:24:21.446161Z"
        },
        "trusted": true,
        "id": "3FzZB-1cBjNM"
      },
      "execution_count": null,
      "outputs": []
    },
    {
      "cell_type": "code",
      "source": [
        "train_images[0].shape"
      ],
      "metadata": {
        "execution": {
          "iopub.status.busy": "2023-02-08T02:24:21.448793Z",
          "iopub.execute_input": "2023-02-08T02:24:21.449190Z",
          "iopub.status.idle": "2023-02-08T02:24:21.457206Z",
          "shell.execute_reply.started": "2023-02-08T02:24:21.449154Z",
          "shell.execute_reply": "2023-02-08T02:24:21.456239Z"
        },
        "trusted": true,
        "id": "Zt2KF-FgBjNM"
      },
      "execution_count": null,
      "outputs": []
    },
    {
      "cell_type": "code",
      "source": [
        "# reshape the array\n",
        "train_images = train_images.reshape(train_images.shape[0], 64, 64, 3).astype('float32')"
      ],
      "metadata": {
        "execution": {
          "iopub.status.busy": "2023-02-08T02:24:21.461301Z",
          "iopub.execute_input": "2023-02-08T02:24:21.462152Z",
          "iopub.status.idle": "2023-02-08T02:24:21.724573Z",
          "shell.execute_reply.started": "2023-02-08T02:24:21.462092Z",
          "shell.execute_reply": "2023-02-08T02:24:21.723557Z"
        },
        "trusted": true,
        "id": "7q64tGIJBjNN"
      },
      "execution_count": null,
      "outputs": []
    },
    {
      "cell_type": "code",
      "source": [
        "# normalize the images\n",
        "train_images = (train_images - 127.5) / 127.5"
      ],
      "metadata": {
        "execution": {
          "iopub.status.busy": "2023-02-08T02:24:21.726000Z",
          "iopub.execute_input": "2023-02-08T02:24:21.726371Z",
          "iopub.status.idle": "2023-02-08T02:24:22.145413Z",
          "shell.execute_reply.started": "2023-02-08T02:24:21.726334Z",
          "shell.execute_reply": "2023-02-08T02:24:22.144414Z"
        },
        "trusted": true,
        "id": "-hVRXaBUBjNN"
      },
      "execution_count": null,
      "outputs": []
    },
    {
      "cell_type": "code",
      "source": [
        "train_images[0]"
      ],
      "metadata": {
        "execution": {
          "iopub.status.busy": "2023-02-08T02:24:22.146681Z",
          "iopub.execute_input": "2023-02-08T02:24:22.147415Z",
          "iopub.status.idle": "2023-02-08T02:24:22.155932Z",
          "shell.execute_reply.started": "2023-02-08T02:24:22.147376Z",
          "shell.execute_reply": "2023-02-08T02:24:22.154822Z"
        },
        "trusted": true,
        "id": "jCRB3PNuBjNN"
      },
      "execution_count": null,
      "outputs": []
    },
    {
      "cell_type": "markdown",
      "source": [
        "## Create Generator & Discriminator Models"
      ],
      "metadata": {
        "id": "imJew911BjNO"
      }
    },
    {
      "cell_type": "code",
      "source": [
        "# latent dimension for random noise\n",
        "LATENT_DIM = 100\n",
        "# weight initializer\n",
        "WEIGHT_INIT = keras.initializers.RandomNormal(mean=0.0, stddev=0.02)\n",
        "# no. of channels of the image\n",
        "CHANNELS = 3 # for gray scale, keep it as 1"
      ],
      "metadata": {
        "execution": {
          "iopub.status.busy": "2023-02-08T02:24:22.157679Z",
          "iopub.execute_input": "2023-02-08T02:24:22.158411Z",
          "iopub.status.idle": "2023-02-08T02:24:22.166675Z",
          "shell.execute_reply.started": "2023-02-08T02:24:22.158374Z",
          "shell.execute_reply": "2023-02-08T02:24:22.165679Z"
        },
        "trusted": true,
        "id": "h9YgaQLZBjNO"
      },
      "execution_count": null,
      "outputs": []
    },
    {
      "cell_type": "markdown",
      "source": [
        "### Generator Model\n",
        "\n",
        "Generator Model will create new images similar to training data from random noise"
      ],
      "metadata": {
        "id": "PuDzkXOyBjNP"
      }
    },
    {
      "cell_type": "code",
      "source": [
        "model = Sequential(name='generator')\n",
        "\n",
        "# 1d random noise\n",
        "model.add(layers.Dense(8 * 8 * 512, input_dim=LATENT_DIM))\n",
        "# model.add(layers.BatchNormalization())\n",
        "model.add(layers.ReLU())\n",
        "\n",
        "# convert 1d to 3d\n",
        "model.add(layers.Reshape((8, 8, 512)))\n",
        "\n",
        "# upsample to 16x16\n",
        "model.add(layers.Conv2DTranspose(256, (4, 4), strides=(2, 2), padding='same', kernel_initializer=WEIGHT_INIT))\n",
        "# model.add(layers.BatchNormalization())\n",
        "model.add(layers.ReLU())\n",
        "\n",
        "# upsample to 32x32\n",
        "model.add(layers.Conv2DTranspose(128, (4, 4), strides=(2, 2), padding='same', kernel_initializer=WEIGHT_INIT))\n",
        "# model.add(layers.BatchNormalization())\n",
        "model.add(layers.ReLU())\n",
        "\n",
        "# upsample to 64x64\n",
        "model.add(layers.Conv2DTranspose(64, (4, 4), strides=(2, 2), padding='same', kernel_initializer=WEIGHT_INIT))\n",
        "# model.add(layers.BatchNormalization())\n",
        "model.add(layers.ReLU())\n",
        "\n",
        "model.add(layers.Conv2D(CHANNELS, (4, 4), padding='same', activation='tanh'))\n",
        "\n",
        "generator = model\n",
        "generator.summary()"
      ],
      "metadata": {
        "execution": {
          "iopub.status.busy": "2023-02-08T02:24:22.168028Z",
          "iopub.execute_input": "2023-02-08T02:24:22.169070Z",
          "iopub.status.idle": "2023-02-08T02:24:24.993959Z",
          "shell.execute_reply.started": "2023-02-08T02:24:22.169028Z",
          "shell.execute_reply": "2023-02-08T02:24:24.992862Z"
        },
        "trusted": true,
        "id": "Wlo40Qi9BjNQ"
      },
      "execution_count": null,
      "outputs": []
    },
    {
      "cell_type": "markdown",
      "source": [
        "### Discriminator Model\n",
        "\n",
        "Discriminator model will classify the image from the generator to check whether it real (or) fake images."
      ],
      "metadata": {
        "id": "Q9pmsqKEBjNR"
      }
    },
    {
      "cell_type": "code",
      "source": [
        "model = Sequential(name='discriminator')\n",
        "input_shape = (64, 64, 3)\n",
        "alpha = 0.2\n",
        "\n",
        "# create conv layers\n",
        "model.add(layers.Conv2D(64, (4, 4), strides=(2, 2), padding='same', input_shape=input_shape))\n",
        "model.add(layers.BatchNormalization())\n",
        "model.add(layers.LeakyReLU(alpha=alpha))\n",
        "\n",
        "model.add(layers.Conv2D(128, (4, 4), strides=(2, 2), padding='same', input_shape=input_shape))\n",
        "model.add(layers.BatchNormalization())\n",
        "model.add(layers.LeakyReLU(alpha=alpha))\n",
        "\n",
        "model.add(layers.Conv2D(128, (4, 4), strides=(2, 2), padding='same', input_shape=input_shape))\n",
        "model.add(layers.BatchNormalization())\n",
        "model.add(layers.LeakyReLU(alpha=alpha))\n",
        "\n",
        "model.add(layers.Flatten())\n",
        "model.add(layers.Dropout(0.3))\n",
        "\n",
        "# output class\n",
        "model.add(layers.Dense(1, activation='sigmoid'))\n",
        "\n",
        "discriminator = model\n",
        "discriminator.summary()"
      ],
      "metadata": {
        "execution": {
          "iopub.status.busy": "2023-02-08T02:24:24.995362Z",
          "iopub.execute_input": "2023-02-08T02:24:24.996009Z",
          "iopub.status.idle": "2023-02-08T02:24:25.078444Z",
          "shell.execute_reply.started": "2023-02-08T02:24:24.995972Z",
          "shell.execute_reply": "2023-02-08T02:24:25.077425Z"
        },
        "trusted": true,
        "id": "3G3ARWNyBjNR"
      },
      "execution_count": null,
      "outputs": []
    },
    {
      "cell_type": "markdown",
      "source": [
        "## Create DCGAN"
      ],
      "metadata": {
        "id": "RcUCgruxBjNS"
      }
    },
    {
      "cell_type": "code",
      "source": [
        "class DCGAN(keras.Model):\n",
        "    def __init__(self, generator, discriminator, latent_dim):\n",
        "        super().__init__()\n",
        "        self.generator = generator\n",
        "        self.discriminator = discriminator\n",
        "        self.latent_dim = latent_dim\n",
        "        self.g_loss_metric = keras.metrics.Mean(name='g_loss')\n",
        "        self.d_loss_metric = keras.metrics.Mean(name='d_loss')\n",
        "\n",
        "    @property\n",
        "    def metrics(self):\n",
        "        return [self.g_loss_metric, self.d_loss_metric]\n",
        "\n",
        "    def compile(self, g_optimizer, d_optimizer, loss_fn):\n",
        "        super(DCGAN, self).compile()\n",
        "        self.g_optimizer = g_optimizer\n",
        "        self.d_optimizer = d_optimizer\n",
        "        self.loss_fn = loss_fn\n",
        "\n",
        "    def train_step(self, real_images):\n",
        "        # get batch size from the data\n",
        "        batch_size = tf.shape(real_images)[0]\n",
        "        # generate random noise\n",
        "        random_noise = tf.random.normal(shape=(batch_size, self.latent_dim))\n",
        "\n",
        "        # train the discriminator with real (1) and fake (0) images\n",
        "        with tf.GradientTape() as tape:\n",
        "            # compute loss on real images\n",
        "            pred_real = self.discriminator(real_images, training=True)\n",
        "            # generate real image labels\n",
        "            real_labels = tf.ones((batch_size, 1))\n",
        "            # label smoothing\n",
        "            real_labels += 0.05 * tf.random.uniform(tf.shape(real_labels))\n",
        "            d_loss_real = self.loss_fn(real_labels, pred_real)\n",
        "\n",
        "            # compute loss on fake images\n",
        "            fake_images = self.generator(random_noise)\n",
        "            pred_fake = self.discriminator(fake_images, training=True)\n",
        "            # generate fake labels\n",
        "            fake_labels = tf.zeros((batch_size, 1))\n",
        "            d_loss_fake = self.loss_fn(fake_labels, pred_fake)\n",
        "\n",
        "            # total discriminator loss\n",
        "            d_loss = (d_loss_real + d_loss_fake) / 2\n",
        "\n",
        "        # compute discriminator gradients\n",
        "        gradients = tape.gradient(d_loss, self.discriminator.trainable_variables)\n",
        "        # update the gradients\n",
        "        self.d_optimizer.apply_gradients(zip(gradients, self.discriminator.trainable_variables))\n",
        "\n",
        "\n",
        "        # train the generator model\n",
        "        labels = tf.ones((batch_size, 1))\n",
        "        # generator want discriminator to think that fake images are real\n",
        "        with tf.GradientTape() as tape:\n",
        "            # generate fake images from generator\n",
        "            fake_images = self.generator(random_noise, training=True)\n",
        "            # classify images as real or fake\n",
        "            pred_fake = self.discriminator(fake_images, training=True)\n",
        "            # compute loss\n",
        "            g_loss = self.loss_fn(labels, pred_fake)\n",
        "\n",
        "        # compute gradients\n",
        "        gradients = tape.gradient(g_loss, self.generator.trainable_variables)\n",
        "        # update the gradients\n",
        "        self.g_optimizer.apply_gradients(zip(gradients, self.generator.trainable_variables))\n",
        "\n",
        "        # update states for both models\n",
        "        self.d_loss_metric.update_state(d_loss)\n",
        "        self.g_loss_metric.update_state(g_loss)\n",
        "\n",
        "        return {'d_loss': self.d_loss_metric.result(), 'g_loss': self.g_loss_metric.result()}"
      ],
      "metadata": {
        "execution": {
          "iopub.status.busy": "2023-02-08T02:24:25.079893Z",
          "iopub.execute_input": "2023-02-08T02:24:25.080222Z",
          "iopub.status.idle": "2023-02-08T02:24:25.095242Z",
          "shell.execute_reply.started": "2023-02-08T02:24:25.080189Z",
          "shell.execute_reply": "2023-02-08T02:24:25.094158Z"
        },
        "trusted": true,
        "id": "VW6JP0ikBjNS"
      },
      "execution_count": null,
      "outputs": []
    },
    {
      "cell_type": "code",
      "source": [
        "class DCGANMonitor(keras.callbacks.Callback):\n",
        "    def __init__(self, num_imgs=25, latent_dim=100):\n",
        "        self.num_imgs = num_imgs\n",
        "        self.latent_dim = latent_dim\n",
        "        # create random noise for generating images\n",
        "        self.noise = tf.random.normal([25, latent_dim])\n",
        "\n",
        "    def on_epoch_end(self, epoch, logs=None):\n",
        "        # generate the image from noise\n",
        "        g_img = self.model.generator(self.noise)\n",
        "        # denormalize the image\n",
        "        g_img = (g_img * 127.5) + 127.5\n",
        "        g_img.numpy()\n",
        "\n",
        "        fig = plt.figure(figsize=(8, 8))\n",
        "        for i in range(self.num_imgs):\n",
        "            plt.subplot(5, 5, i+1)\n",
        "            img = array_to_img(g_img[i])\n",
        "            plt.imshow(img)\n",
        "            plt.axis('off')\n",
        "        # plt.savefig('epoch_{:03d}.png'.format(epoch))\n",
        "        plt.show()\n",
        "\n",
        "    def on_train_end(self, logs=None):\n",
        "        self.model.generator.save('generator.h5')"
      ],
      "metadata": {
        "execution": {
          "iopub.status.busy": "2023-02-08T02:24:25.097359Z",
          "iopub.execute_input": "2023-02-08T02:24:25.097667Z",
          "iopub.status.idle": "2023-02-08T02:24:25.109795Z",
          "shell.execute_reply.started": "2023-02-08T02:24:25.097634Z",
          "shell.execute_reply": "2023-02-08T02:24:25.108897Z"
        },
        "trusted": true,
        "id": "vnphb2mwBjNT"
      },
      "execution_count": null,
      "outputs": []
    },
    {
      "cell_type": "code",
      "source": [
        "dcgan = DCGAN(generator=generator, discriminator=discriminator, latent_dim=LATENT_DIM)"
      ],
      "metadata": {
        "execution": {
          "iopub.status.busy": "2023-02-08T02:24:25.111292Z",
          "iopub.execute_input": "2023-02-08T02:24:25.111691Z",
          "iopub.status.idle": "2023-02-08T02:24:25.130488Z",
          "shell.execute_reply.started": "2023-02-08T02:24:25.111651Z",
          "shell.execute_reply": "2023-02-08T02:24:25.129362Z"
        },
        "trusted": true,
        "id": "FkIqK-y3BjNU"
      },
      "execution_count": null,
      "outputs": []
    },
    {
      "cell_type": "code",
      "source": [
        "D_LR = 0.0001\n",
        "G_LR = 0.0003\n",
        "dcgan.compile(g_optimizer=Adam(learning_rate=G_LR, beta_1=0.5), d_optimizer=Adam(learning_rate=D_LR, beta_1=0.5), loss_fn=BinaryCrossentropy())"
      ],
      "metadata": {
        "execution": {
          "iopub.status.busy": "2023-02-08T02:24:25.132523Z",
          "iopub.execute_input": "2023-02-08T02:24:25.132920Z",
          "iopub.status.idle": "2023-02-08T02:24:25.149889Z",
          "shell.execute_reply.started": "2023-02-08T02:24:25.132883Z",
          "shell.execute_reply": "2023-02-08T02:24:25.148581Z"
        },
        "trusted": true,
        "id": "OkBNPbfkBjNV"
      },
      "execution_count": null,
      "outputs": []
    },
    {
      "cell_type": "code",
      "source": [
        "N_EPOCHS = 50\n",
        "dcgan.fit(train_images, epochs=N_EPOCHS, callbacks=[DCGANMonitor()])"
      ],
      "metadata": {
        "execution": {
          "iopub.status.busy": "2023-02-08T02:24:25.152189Z",
          "iopub.execute_input": "2023-02-08T02:24:25.152919Z",
          "iopub.status.idle": "2023-02-08T02:48:10.025032Z",
          "shell.execute_reply.started": "2023-02-08T02:24:25.152864Z",
          "shell.execute_reply": "2023-02-08T02:48:10.023934Z"
        },
        "trusted": true,
        "id": "id7gqSknBjNW"
      },
      "execution_count": null,
      "outputs": []
    },
    {
      "cell_type": "markdown",
      "source": [
        "## Generate New Anime Image"
      ],
      "metadata": {
        "id": "PFS8lES9BjNX"
      }
    },
    {
      "cell_type": "code",
      "source": [
        "noise = tf.random.normal([1, 100])\n",
        "fig = plt.figure(figsize=(3, 3))\n",
        "# generate the image from noise\n",
        "g_img = dcgan.generator(noise)\n",
        "# denormalize the image\n",
        "g_img = (g_img * 127.5) + 127.5\n",
        "g_img.numpy()\n",
        "img = array_to_img(g_img[0])\n",
        "plt.imshow(img)\n",
        "plt.axis('off')\n",
        "# plt.savefig('epoch_{:03d}.png'.format(epoch))\n",
        "plt.show()"
      ],
      "metadata": {
        "execution": {
          "iopub.status.busy": "2023-02-08T02:54:55.335390Z",
          "iopub.execute_input": "2023-02-08T02:54:55.335790Z",
          "iopub.status.idle": "2023-02-08T02:54:55.450792Z",
          "shell.execute_reply.started": "2023-02-08T02:54:55.335756Z",
          "shell.execute_reply": "2023-02-08T02:54:55.449499Z"
        },
        "trusted": true,
        "id": "TqH6wP1sBjNX"
      },
      "execution_count": null,
      "outputs": []
    },
    {
      "cell_type": "code",
      "source": [],
      "metadata": {
        "id": "AF3Hr2KeBjNY"
      },
      "execution_count": null,
      "outputs": []
    },
    {
      "cell_type": "code",
      "source": [],
      "metadata": {
        "id": "jxQcbY2LBjNY"
      },
      "execution_count": null,
      "outputs": []
    }
  ]
}